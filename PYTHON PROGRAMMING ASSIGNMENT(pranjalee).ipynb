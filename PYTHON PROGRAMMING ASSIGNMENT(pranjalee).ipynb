{
 "cells": [
  {
   "cell_type": "markdown",
   "id": "8a0aa7f0-4efc-401a-9179-37b9fb43ef33",
   "metadata": {},
   "source": [
    "#  PYTHON PROGRAMMING ASSIGNMENT"
   ]
  },
  {
   "cell_type": "markdown",
   "id": "535be4e5-2796-4ff5-b38a-348118f7e41e",
   "metadata": {},
   "source": [
    "## 1: Prime Numbers"
   ]
  },
  {
   "cell_type": "code",
   "execution_count": 1,
   "id": "b76a718d-e14d-4454-9f1f-04c2c5881b05",
   "metadata": {},
   "outputs": [
    {
     "name": "stdin",
     "output_type": "stream",
     "text": [
      "Enter a number:  4\n"
     ]
    },
    {
     "name": "stdout",
     "output_type": "stream",
     "text": [
      "4 is not a prime number\n"
     ]
    }
   ],
   "source": [
    "# given number is prime or not. A prime number is a natural number greater than 1 that has no positive divisors other than 1 and itself.\n",
    "def is_prime(n):\n",
    "    if n <= 1:\n",
    "        return False\n",
    "    for i in range(2, int(n ** 0.5) + 1):\n",
    "        if n % i == 0:\n",
    "            return False\n",
    "    return True\n",
    "\n",
    "num = int(input(\"Enter a number: \"))\n",
    "if is_prime(num):\n",
    "    print(num, \"is a prime number\")\n",
    "else:\n",
    "    print(num, \"is not a prime number\")\n"
   ]
  },
  {
   "cell_type": "markdown",
   "id": "52d05dc9-7e75-45b7-b242-318c89c7e0cc",
   "metadata": {},
   "source": [
    " ##  2: Product of Random Numbers"
   ]
  },
  {
   "cell_type": "code",
   "execution_count": 2,
   "id": "1411709d-54ad-4df5-9e73-36e51157038b",
   "metadata": {},
   "outputs": [
    {
     "name": "stdin",
     "output_type": "stream",
     "text": [
      "What is the product of 4 and 3?  12\n"
     ]
    },
    {
     "name": "stdout",
     "output_type": "stream",
     "text": [
      "Correct!\n"
     ]
    }
   ],
   "source": [
    "# enerates two random numbers and asks the user to enter the product of these numbers.\n",
    "import random\n",
    "\n",
    "num1 = random.randint(1, 10)\n",
    "num2 = random.randint(1, 10)\n",
    "product = num1 * num2\n",
    "\n",
    "user_input = int(input(f\"What is the product of {num1} and {num2}? \"))\n",
    "if user_input == product:\n",
    "    print(\"Correct!\")\n",
    "else:\n",
    "    print(\"Incorrect!\")\n"
   ]
  },
  {
   "cell_type": "markdown",
   "id": "7601c7f6-cbbc-4df2-9bd3-d9f5de1821c1",
   "metadata": {},
   "source": [
    "## 3: Squares of Even/Odd Numbers"
   ]
  },
  {
   "cell_type": "code",
   "execution_count": 3,
   "id": "f1058139-d65c-46d8-9fc8-f545a92ecba1",
   "metadata": {},
   "outputs": [
    {
     "name": "stdout",
     "output_type": "stream",
     "text": [
      "100 : 10000\n",
      "102 : 10404\n",
      "104 : 10816\n",
      "106 : 11236\n",
      "108 : 11664\n",
      "110 : 12100\n",
      "112 : 12544\n",
      "114 : 12996\n",
      "116 : 13456\n",
      "118 : 13924\n",
      "120 : 14400\n",
      "122 : 14884\n",
      "124 : 15376\n",
      "126 : 15876\n",
      "128 : 16384\n",
      "130 : 16900\n",
      "132 : 17424\n",
      "134 : 17956\n",
      "136 : 18496\n",
      "138 : 19044\n",
      "140 : 19600\n",
      "142 : 20164\n",
      "144 : 20736\n",
      "146 : 21316\n",
      "148 : 21904\n",
      "150 : 22500\n",
      "152 : 23104\n",
      "154 : 23716\n",
      "156 : 24336\n",
      "158 : 24964\n",
      "160 : 25600\n",
      "162 : 26244\n",
      "164 : 26896\n",
      "166 : 27556\n",
      "168 : 28224\n",
      "170 : 28900\n",
      "172 : 29584\n",
      "174 : 30276\n",
      "176 : 30976\n",
      "178 : 31684\n",
      "180 : 32400\n",
      "182 : 33124\n",
      "184 : 33856\n",
      "186 : 34596\n",
      "188 : 35344\n",
      "190 : 36100\n",
      "192 : 36864\n",
      "194 : 37636\n",
      "196 : 38416\n",
      "198 : 39204\n",
      "200 : 40000\n"
     ]
    }
   ],
   "source": [
    "# Create a Python script that prints the squares of all even or odd numbers within the range of 100 to 200. Choose either even or odd \n",
    "# Print squares of even numbers\n",
    "for i in range(100, 201, 2):\n",
    "    print(i, \":\", i**2)\n"
   ]
  },
  {
   "cell_type": "markdown",
   "id": "1128c8c9-c968-46d0-924e-e3dcd9266532",
   "metadata": {},
   "source": [
    " ## 4: Word Counter"
   ]
  },
  {
   "cell_type": "code",
   "execution_count": 4,
   "id": "133d7ae2-9849-41ce-9da0-854aee343e9e",
   "metadata": {},
   "outputs": [
    {
     "name": "stdout",
     "output_type": "stream",
     "text": [
      "'This': 2\n",
      "'is': 1\n",
      "'a': 1\n",
      "'sample': 1\n",
      "'text.': 1\n",
      "'text': 1\n",
      "'will': 1\n",
      "'be': 1\n",
      "'used': 1\n",
      "'to': 1\n",
      "'demonstrate': 1\n",
      "'the': 1\n",
      "'word': 1\n",
      "'counter.': 1\n"
     ]
    }
   ],
   "source": [
    "# write a program to count the number of words in a given text.\n",
    "input_text = \"This is a sample text. This text will be used to demonstrate the word counter.\"\n",
    "word_count = {}\n",
    "\n",
    "words = input_text.split()\n",
    "for word in words:\n",
    "    if word in word_count:\n",
    "        word_count[word] += 1\n",
    "    else:\n",
    "        word_count[word] = 1\n",
    "\n",
    "for word, count in word_count.items():\n",
    "    print(f\"'{word}': {count}\")\n"
   ]
  },
  {
   "cell_type": "markdown",
   "id": "96d82fed-aff3-48bc-a264-c348c272b15e",
   "metadata": {},
   "source": [
    "## 5: Check for Palindrome"
   ]
  },
  {
   "cell_type": "code",
   "execution_count": 5,
   "id": "ccb2cef9-6377-4fff-be8a-8da61795966d",
   "metadata": {},
   "outputs": [
    {
     "name": "stdin",
     "output_type": "stream",
     "text": [
      "Enter a word:  sample\n"
     ]
    },
    {
     "name": "stdout",
     "output_type": "stream",
     "text": [
      "sample is not a palindrome\n"
     ]
    }
   ],
   "source": [
    "def is_palindrome(s):\n",
    "    s = s.lower()  # Convert string to lowercase\n",
    "    return s == s[::-1]\n",
    "\n",
    "word = input(\"Enter a word: \")\n",
    "if is_palindrome(word):\n",
    "    print(word, \"is a palindrome\")\n",
    "else:\n",
    "    print(word, \"is not a palindrome\")\n"
   ]
  },
  {
   "cell_type": "code",
   "execution_count": null,
   "id": "ec312b0f-36a7-4a7d-8a06-9b7ebc8d8e50",
   "metadata": {},
   "outputs": [],
   "source": []
  }
 ],
 "metadata": {
  "kernelspec": {
   "display_name": "Python 3 (ipykernel)",
   "language": "python",
   "name": "python3"
  },
  "language_info": {
   "codemirror_mode": {
    "name": "ipython",
    "version": 3
   },
   "file_extension": ".py",
   "mimetype": "text/x-python",
   "name": "python",
   "nbconvert_exporter": "python",
   "pygments_lexer": "ipython3",
   "version": "3.11.7"
  }
 },
 "nbformat": 4,
 "nbformat_minor": 5
}
