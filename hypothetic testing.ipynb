{
 "cells": [
  {
   "cell_type": "markdown",
   "id": "e40d5384-eae3-4852-a139-417256b405db",
   "metadata": {},
   "source": [
    "# Hypothesis Testing"
   ]
  },
  {
   "cell_type": "code",
   "execution_count": 1,
   "id": "6b6a6f30-c34a-47a3-ad25-873aefcf0a90",
   "metadata": {},
   "outputs": [],
   "source": [
    "import numpy as np\n",
    "import scipy.stats as stats\n"
   ]
  },
  {
   "cell_type": "code",
   "execution_count": 5,
   "id": "c7734d0a-30bc-4745-acd3-52de5fe65036",
   "metadata": {},
   "outputs": [
    {
     "name": "stdout",
     "output_type": "stream",
     "text": [
      "Test Statistic: -38.0\n",
      "Critical Value: 1.6448536269514722\n",
      "Fail to reject the null hypothesis.\n",
      "There is not enough evidence to support the restaurant owners' claim.\n"
     ]
    }
   ],
   "source": [
    "\n",
    "# Step 2: Calculate the Test Statistic\n",
    "sample_mean = 3050\n",
    "theoretical_mean = 4000\n",
    "sigma = 125\n",
    "n = 25\n",
    "\n",
    "test_statistic = (sample_mean - theoretical_mean) / (sigma / np.sqrt(n))\n",
    "\n",
    "print(\"Test Statistic:\", test_statistic)\n",
    "\n",
    "# Step 3: Determine the Critical Value\n",
    "alpha = 0.05\n",
    "critical_value = stats.norm.ppf(1 - alpha)\n",
    "\n",
    "print(\"Critical Value:\", critical_value)\n",
    "\n",
    "# Step 4: Make a Decision\n",
    "if test_statistic > critical_value:\n",
    "    print(\"Reject the null hypothesis.\")\n",
    "else:\n",
    "    print(\"Fail to reject the null hypothesis.\")\n",
    "\n",
    "# Step 5: Conclusion\n",
    "if test_statistic > critical_value:\n",
    "    print(\"There is strong evidence to support the restaurant owners' claim that the weekly operating costs are higher than the model suggests.\")\n",
    "else:\n",
    "    print(\"There is not enough evidence to support the restaurant owners' claim.\")\n"
   ]
  },
  {
   "cell_type": "code",
   "execution_count": null,
   "id": "f3cd5607-4f21-4988-b3fd-e0b094f3fb58",
   "metadata": {},
   "outputs": [],
   "source": []
  }
 ],
 "metadata": {
  "kernelspec": {
   "display_name": "Python 3 (ipykernel)",
   "language": "python",
   "name": "python3"
  },
  "language_info": {
   "codemirror_mode": {
    "name": "ipython",
    "version": 3
   },
   "file_extension": ".py",
   "mimetype": "text/x-python",
   "name": "python",
   "nbconvert_exporter": "python",
   "pygments_lexer": "ipython3",
   "version": "3.11.7"
  }
 },
 "nbformat": 4,
 "nbformat_minor": 5
}
